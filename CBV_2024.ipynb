{
 "cells": [
  {
   "cell_type": "code",
   "execution_count": 1,
   "metadata": {},
   "outputs": [
    {
     "name": "stdout",
     "output_type": "stream",
     "text": [
      "https://cbv.com.br/superliga/equipes/equipe/?team=13\n",
      "https://cbv.com.br/superliga/equipes/equipe/?team=15\n",
      "https://cbv.com.br/superliga/equipes/equipe/?team=17\n",
      "https://cbv.com.br/superliga/equipes/equipe/?team=18\n",
      "https://cbv.com.br/superliga/equipes/equipe/?team=21\n",
      "https://cbv.com.br/superliga/equipes/equipe/?team=36\n",
      "https://cbv.com.br/superliga/equipes/equipe/?team=38\n",
      "https://cbv.com.br/superliga/equipes/equipe/?team=44\n",
      "https://cbv.com.br/superliga/equipes/equipe/?team=46\n",
      "https://cbv.com.br/superliga/equipes/equipe/?team=47\n",
      "https://cbv.com.br/superliga/equipes/equipe/?team=51\n",
      "https://cbv.com.br/superliga/equipes/equipe/?team=52\n",
      "https://cbv.com.br/superliga/equipes/equipe/?team=2\n",
      "https://cbv.com.br/superliga/equipes/equipe/?team=3\n",
      "https://cbv.com.br/superliga/equipes/equipe/?team=5\n",
      "https://cbv.com.br/superliga/equipes/equipe/?team=9\n",
      "https://cbv.com.br/superliga/equipes/equipe/?team=12\n",
      "https://cbv.com.br/superliga/equipes/equipe/?team=28\n",
      "https://cbv.com.br/superliga/equipes/equipe/?team=32\n",
      "https://cbv.com.br/superliga/equipes/equipe/?team=41\n",
      "https://cbv.com.br/superliga/equipes/equipe/?team=42\n",
      "https://cbv.com.br/superliga/equipes/equipe/?team=43\n",
      "https://cbv.com.br/superliga/equipes/equipe/?team=49\n",
      "https://cbv.com.br/superliga/equipes/equipe/?team=53\n"
     ]
    }
   ],
   "source": [
    "from selenium import webdriver\n",
    "from selenium.webdriver.common.by import By\n",
    "from selenium.webdriver.chrome.service import Service\n",
    "from bs4 import BeautifulSoup\n",
    "import time\n",
    "from webdriver_manager.chrome import ChromeDriverManager\n",
    "\n",
    "# Configurar o serviço do ChromeDriver\n",
    "service = Service(ChromeDriverManager().install())\n",
    "driver = webdriver.Chrome(service=service)\n",
    "\n",
    "# Lista de websites\n",
    "websites = [\n",
    "    'https://cbv.com.br/superliga/equipes/equipes-masculino/',\n",
    "    'https://cbv.com.br/superliga/equipes/equipes-feminino/'\n",
    "]\n",
    "\n",
    "equipes = []\n",
    "\n",
    "for website in websites:\n",
    "    driver.get(website)\n",
    "    time.sleep(5)  # Aguarde o carregamento da página, ajuste conforme necessário\n",
    "    \n",
    "    # Usar BeautifulSoup para analisar o conteúdo da página\n",
    "    soup = BeautifulSoup(driver.page_source, 'html.parser')\n",
    "    \n",
    "    # Encontrar todos os divs com a classe especificada\n",
    "    divs = soup.find_all('div', class_='elementor-column elementor-col-25 elementor-inner-column elementor-element')\n",
    "    \n",
    "    for div in divs:\n",
    "        widget_container = div.find('div', class_='elementor-widget-container')\n",
    "        if widget_container:\n",
    "            link = widget_container.find('a', href=True)\n",
    "            if link:\n",
    "                equipes.append(link['href'])\n",
    "\n",
    "\n",
    "# Exibir os links coletados\n",
    "for equipe in equipes:\n",
    "    print(equipe)"
   ]
  }
 ],
 "metadata": {
  "kernelspec": {
   "display_name": "Python 3",
   "language": "python",
   "name": "python3"
  },
  "language_info": {
   "codemirror_mode": {
    "name": "ipython",
    "version": 3
   },
   "file_extension": ".py",
   "mimetype": "text/x-python",
   "name": "python",
   "nbconvert_exporter": "python",
   "pygments_lexer": "ipython3",
   "version": "3.11.4"
  }
 },
 "nbformat": 4,
 "nbformat_minor": 2
}
